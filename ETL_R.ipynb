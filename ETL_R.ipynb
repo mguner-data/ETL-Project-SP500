{
 "cells": [
  {
   "cell_type": "code",
   "execution_count": 1,
   "metadata": {},
   "outputs": [],
   "source": [
    "import pandas as pd\n",
    "from sqlalchemy import create_engine\n",
    "from secret import username, password"
   ]
  },
  {
   "cell_type": "code",
   "execution_count": 2,
   "metadata": {},
   "outputs": [
    {
     "data": {
      "text/html": [
       "<div>\n",
       "<style scoped>\n",
       "    .dataframe tbody tr th:only-of-type {\n",
       "        vertical-align: middle;\n",
       "    }\n",
       "\n",
       "    .dataframe tbody tr th {\n",
       "        vertical-align: top;\n",
       "    }\n",
       "\n",
       "    .dataframe thead th {\n",
       "        text-align: right;\n",
       "    }\n",
       "</style>\n",
       "<table border=\"1\" class=\"dataframe\">\n",
       "  <thead>\n",
       "    <tr style=\"text-align: right;\">\n",
       "      <th></th>\n",
       "      <th>Unnamed: 0</th>\n",
       "      <th>date</th>\n",
       "      <th>open</th>\n",
       "      <th>high</th>\n",
       "      <th>low</th>\n",
       "      <th>close</th>\n",
       "      <th>volume</th>\n",
       "      <th>name</th>\n",
       "    </tr>\n",
       "  </thead>\n",
       "  <tbody>\n",
       "    <tr>\n",
       "      <th>0</th>\n",
       "      <td>0</td>\n",
       "      <td>2020-07-31</td>\n",
       "      <td>151.68</td>\n",
       "      <td>151.75</td>\n",
       "      <td>148.800</td>\n",
       "      <td>150.47</td>\n",
       "      <td>150.47</td>\n",
       "      <td>MMM</td>\n",
       "    </tr>\n",
       "    <tr>\n",
       "      <th>1</th>\n",
       "      <td>1</td>\n",
       "      <td>2020-07-30</td>\n",
       "      <td>154.31</td>\n",
       "      <td>154.72</td>\n",
       "      <td>151.361</td>\n",
       "      <td>152.12</td>\n",
       "      <td>152.12</td>\n",
       "      <td>MMM</td>\n",
       "    </tr>\n",
       "    <tr>\n",
       "      <th>2</th>\n",
       "      <td>2</td>\n",
       "      <td>2020-07-29</td>\n",
       "      <td>156.50</td>\n",
       "      <td>157.53</td>\n",
       "      <td>154.920</td>\n",
       "      <td>156.25</td>\n",
       "      <td>156.25</td>\n",
       "      <td>MMM</td>\n",
       "    </tr>\n",
       "    <tr>\n",
       "      <th>3</th>\n",
       "      <td>3</td>\n",
       "      <td>2020-07-28</td>\n",
       "      <td>155.47</td>\n",
       "      <td>157.48</td>\n",
       "      <td>153.800</td>\n",
       "      <td>155.33</td>\n",
       "      <td>155.33</td>\n",
       "      <td>MMM</td>\n",
       "    </tr>\n",
       "    <tr>\n",
       "      <th>4</th>\n",
       "      <td>4</td>\n",
       "      <td>2020-07-27</td>\n",
       "      <td>159.53</td>\n",
       "      <td>163.38</td>\n",
       "      <td>159.330</td>\n",
       "      <td>163.24</td>\n",
       "      <td>163.24</td>\n",
       "      <td>MMM</td>\n",
       "    </tr>\n",
       "  </tbody>\n",
       "</table>\n",
       "</div>"
      ],
      "text/plain": [
       "   Unnamed: 0        date    open    high      low   close  volume name\n",
       "0           0  2020-07-31  151.68  151.75  148.800  150.47  150.47  MMM\n",
       "1           1  2020-07-30  154.31  154.72  151.361  152.12  152.12  MMM\n",
       "2           2  2020-07-29  156.50  157.53  154.920  156.25  156.25  MMM\n",
       "3           3  2020-07-28  155.47  157.48  153.800  155.33  155.33  MMM\n",
       "4           4  2020-07-27  159.53  163.38  159.330  163.24  163.24  MMM"
      ]
     },
     "execution_count": 2,
     "metadata": {},
     "output_type": "execute_result"
    }
   ],
   "source": [
    "file = \"Alpha_Vantage_Export.csv\"\n",
    "df = pd.read_csv(file)\n",
    "df.head()"
   ]
  },
  {
   "cell_type": "code",
   "execution_count": 3,
   "metadata": {},
   "outputs": [
    {
     "name": "stderr",
     "output_type": "stream",
     "text": [
      "<ipython-input-3-1bff07c75555>:11: SettingWithCopyWarning: \n",
      "A value is trying to be set on a copy of a slice from a DataFrame\n",
      "\n",
      "See the caveats in the documentation: https://pandas.pydata.org/pandas-docs/stable/user_guide/indexing.html#returning-a-view-versus-a-copy\n",
      "  df_ticker.drop_duplicates(\"ticker\", inplace=True)\n"
     ]
    },
    {
     "data": {
      "text/html": [
       "<div>\n",
       "<style scoped>\n",
       "    .dataframe tbody tr th:only-of-type {\n",
       "        vertical-align: middle;\n",
       "    }\n",
       "\n",
       "    .dataframe tbody tr th {\n",
       "        vertical-align: top;\n",
       "    }\n",
       "\n",
       "    .dataframe thead th {\n",
       "        text-align: right;\n",
       "    }\n",
       "</style>\n",
       "<table border=\"1\" class=\"dataframe\">\n",
       "  <thead>\n",
       "    <tr style=\"text-align: right;\">\n",
       "      <th></th>\n",
       "      <th>ticker</th>\n",
       "      <th>date_close</th>\n",
       "      <th>high</th>\n",
       "      <th>open</th>\n",
       "      <th>low</th>\n",
       "      <th>close</th>\n",
       "      <th>volume</th>\n",
       "    </tr>\n",
       "  </thead>\n",
       "  <tbody>\n",
       "    <tr>\n",
       "      <th>0</th>\n",
       "      <td>MMM</td>\n",
       "      <td>2020-07-31</td>\n",
       "      <td>151.75</td>\n",
       "      <td>151.68</td>\n",
       "      <td>148.800</td>\n",
       "      <td>150.47</td>\n",
       "      <td>150.47</td>\n",
       "    </tr>\n",
       "    <tr>\n",
       "      <th>1</th>\n",
       "      <td>MMM</td>\n",
       "      <td>2020-07-30</td>\n",
       "      <td>154.72</td>\n",
       "      <td>154.31</td>\n",
       "      <td>151.361</td>\n",
       "      <td>152.12</td>\n",
       "      <td>152.12</td>\n",
       "    </tr>\n",
       "    <tr>\n",
       "      <th>2</th>\n",
       "      <td>MMM</td>\n",
       "      <td>2020-07-29</td>\n",
       "      <td>157.53</td>\n",
       "      <td>156.50</td>\n",
       "      <td>154.920</td>\n",
       "      <td>156.25</td>\n",
       "      <td>156.25</td>\n",
       "    </tr>\n",
       "    <tr>\n",
       "      <th>3</th>\n",
       "      <td>MMM</td>\n",
       "      <td>2020-07-28</td>\n",
       "      <td>157.48</td>\n",
       "      <td>155.47</td>\n",
       "      <td>153.800</td>\n",
       "      <td>155.33</td>\n",
       "      <td>155.33</td>\n",
       "    </tr>\n",
       "    <tr>\n",
       "      <th>4</th>\n",
       "      <td>MMM</td>\n",
       "      <td>2020-07-27</td>\n",
       "      <td>163.38</td>\n",
       "      <td>159.53</td>\n",
       "      <td>159.330</td>\n",
       "      <td>163.24</td>\n",
       "      <td>163.24</td>\n",
       "    </tr>\n",
       "  </tbody>\n",
       "</table>\n",
       "</div>"
      ],
      "text/plain": [
       "  ticker  date_close    high    open      low   close  volume\n",
       "0    MMM  2020-07-31  151.75  151.68  148.800  150.47  150.47\n",
       "1    MMM  2020-07-30  154.72  154.31  151.361  152.12  152.12\n",
       "2    MMM  2020-07-29  157.53  156.50  154.920  156.25  156.25\n",
       "3    MMM  2020-07-28  157.48  155.47  153.800  155.33  155.33\n",
       "4    MMM  2020-07-27  163.38  159.53  159.330  163.24  163.24"
      ]
     },
     "execution_count": 3,
     "metadata": {},
     "output_type": "execute_result"
    }
   ],
   "source": [
    "df = df.rename(columns = {'name':'ticker',\n",
    "                            'date':'date_close',\n",
    "                          'high':'high',\n",
    "                          'open':'open',\n",
    "                          'low':'low',\n",
    "                          'close':'close',\n",
    "                          'volume':'volume'\n",
    "                           })\n",
    "df = df[['ticker','date_close','high','open','low','close','volume']]\n",
    "df_ticker = df[['ticker']]\n",
    "df_ticker.drop_duplicates(\"ticker\", inplace=True)\n",
    "df.head()"
   ]
  },
  {
   "cell_type": "code",
   "execution_count": 4,
   "metadata": {},
   "outputs": [],
   "source": [
    "connection_string = f'{username}:{password}@localhost:5432/Stock_DB'\n",
    "engine = create_engine(f'postgresql://{connection_string}')"
   ]
  },
  {
   "cell_type": "code",
   "execution_count": 5,
   "metadata": {},
   "outputs": [
    {
     "data": {
      "text/plain": [
       "['ticker_security', 'index_event', 'daily_data']"
      ]
     },
     "execution_count": 5,
     "metadata": {},
     "output_type": "execute_result"
    }
   ],
   "source": [
    "engine.table_names()"
   ]
  },
  {
   "cell_type": "code",
   "execution_count": 6,
   "metadata": {},
   "outputs": [],
   "source": [
    "for i in range(len(df_ticker)):\n",
    "    try:\n",
    "        df_ticker.iloc[i:i+1].to_sql(name='ticker_security', con=engine, if_exists='append',index=False)\n",
    "    except:\n",
    "       pass #or any other action  "
   ]
  },
  {
   "cell_type": "code",
   "execution_count": 7,
   "metadata": {},
   "outputs": [],
   "source": [
    "df.to_sql(name='daily_data', con=engine, if_exists='append', index=False)"
   ]
  }
 ],
 "metadata": {
  "kernelspec": {
   "display_name": "Python [conda env:.conda-PythonData] *",
   "language": "python",
   "name": "conda-env-.conda-PythonData-py"
  },
  "language_info": {
   "codemirror_mode": {
    "name": "ipython",
    "version": 3
   },
   "file_extension": ".py",
   "mimetype": "text/x-python",
   "name": "python",
   "nbconvert_exporter": "python",
   "pygments_lexer": "ipython3",
   "version": "3.8.3"
  }
 },
 "nbformat": 4,
 "nbformat_minor": 4
}
