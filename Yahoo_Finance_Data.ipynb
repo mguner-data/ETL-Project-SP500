{
 "cells": [
  {
   "cell_type": "code",
   "execution_count": null,
   "metadata": {
    "ExecuteTime": {
     "end_time": "2020-07-29T16:13:14.554008Z",
     "start_time": "2020-07-29T16:13:13.415318Z"
    }
   },
   "outputs": [],
   "source": [
    "import datetime as dt\n",
    "import numpy as np\n",
    "import pandas as pd\n",
    "from pandas_datareader import data as web\n",
    "\n",
    "import matplotlib\n",
    "import matplotlib.pyplot as plt\n",
    "import matplotlib.dates as mdates\n",
    "%matplotlib inline"
   ]
  },
  {
   "cell_type": "code",
   "execution_count": null,
   "metadata": {},
   "outputs": [],
   "source": [
    "# Read csv files\n",
    "#1) From kaggle SP500 \n",
    "SP_500_13_18=pd.read_csv(\"all_stocks_5yr.csv\")\n",
    "df2=pd.read_csv(\"constituents.csv\")\n",
    "# #2)From Current_Component_List.csv\n",
    "# current_SP500_comp=pd.read_csv(\"Current_Component_List.csv\")\n",
    "# # #3) Date_Added_List.csv\n",
    "# # date_added_df=pd.read_csv(\"Date_Added_List.csv\")"
   ]
  },
  {
   "cell_type": "markdown",
   "metadata": {},
   "source": [
    "### Read from yahoo-testing"
   ]
  },
  {
   "cell_type": "code",
   "execution_count": null,
   "metadata": {
    "ExecuteTime": {
     "end_time": "2020-07-29T16:13:14.836257Z",
     "start_time": "2020-07-29T16:13:14.818467Z"
    }
   },
   "outputs": [],
   "source": [
    "start_time = pd.to_datetime(\"2018, 2, 8\", infer_datetime_format=True, format='%Y-%m-%d %H:%M:%S')\n",
    "end_time = pd.to_datetime(\"2020, 7, 28\", infer_datetime_format=True, format='%Y-%m-%d %H:%M:%S')"
   ]
  },
  {
   "cell_type": "code",
   "execution_count": null,
   "metadata": {
    "ExecuteTime": {
     "end_time": "2020-07-29T16:13:58.994803Z",
     "start_time": "2020-07-29T16:13:16.035882Z"
    },
    "scrolled": true
   },
   "outputs": [],
   "source": [
    "df = web.DataReader('MMM', 'yahoo', start_time, end_time)\n",
    "df.tail()"
   ]
  },
  {
   "cell_type": "markdown",
   "metadata": {},
   "source": [
    "### Define a function"
   ]
  },
  {
   "cell_type": "code",
   "execution_count": null,
   "metadata": {},
   "outputs": [],
   "source": [
    "# Get all ticker symbols \n",
    "list(SP_500_13_18.columns.values)\n",
    "ticker_list=df2['Symbol'].to_list()\n",
    "set_ticker_list=set(ticker_list)\n",
    "ticker_lst=list(set_ticker_list)\n"
   ]
  },
  {
   "cell_type": "code",
   "execution_count": null,
   "metadata": {
    "ExecuteTime": {
     "end_time": "2020-07-29T16:27:29.757476Z",
     "start_time": "2020-07-29T16:27:29.738267Z"
    },
    "scrolled": true
   },
   "outputs": [],
   "source": [
    "#TO-DO- Try and Except Block to be added\n",
    "def stock_market():\n",
    "    tickers = ticker_lst\n",
    "    start_time = '2020-07-01'\n",
    "    end_time = '2020-07-15'\n",
    "    store_to_dict = {}\n",
    "    for ticker in tickers:\n",
    "        print(ticker)\n",
    "        data = web.DataReader(\n",
    "            ticker,\n",
    "            'yahoo',\n",
    "            start=start_time,\n",
    "            end=end_time,\n",
    "        )\n",
    "        store_to_dict[ticker] = data\n",
    "    return store_to_dict\n"
   ]
  },
  {
   "cell_type": "code",
   "execution_count": null,
   "metadata": {
    "ExecuteTime": {
     "end_time": "2020-07-29T16:29:18.917306Z",
     "start_time": "2020-07-29T16:27:31.156338Z"
    },
    "scrolled": false
   },
   "outputs": [],
   "source": [
    "new_18_20_SP500_dict=stock_market()\n",
    "type(new_18_20_SP500_dict)"
   ]
  },
  {
   "cell_type": "code",
   "execution_count": null,
   "metadata": {
    "ExecuteTime": {
     "end_time": "2020-07-29T16:29:50.511176Z",
     "start_time": "2020-07-29T16:29:50.480004Z"
    }
   },
   "outputs": [],
   "source": [
    "# TO-DO- Make a column out of tickers\n",
    "\n",
    "SP500_18_20_df = pd.concat(new_18_20_SP500_dict, axis=1)\n",
    "type(SP500_18_20_df)\n",
    "SP500_18_20_df.to_csv('SP500_from18_to20.csv')\n"
   ]
  },
  {
   "cell_type": "markdown",
   "metadata": {},
   "source": [
    "### Take Tickers of SP500"
   ]
  },
  {
   "cell_type": "code",
   "execution_count": null,
   "metadata": {},
   "outputs": [],
   "source": [
    "\n"
   ]
  },
  {
   "cell_type": "markdown",
   "metadata": {},
   "source": [
    "### Load DataFrames into database"
   ]
  },
  {
   "cell_type": "code",
   "execution_count": null,
   "metadata": {},
   "outputs": [],
   "source": []
  }
 ],
 "metadata": {
  "kernelspec": {
   "display_name": "Python [conda env:.conda-PythonData] *",
   "language": "python",
   "name": "conda-env-.conda-PythonData-py"
  },
  "language_info": {
   "codemirror_mode": {
    "name": "ipython",
    "version": 3
   },
   "file_extension": ".py",
   "mimetype": "text/x-python",
   "name": "python",
   "nbconvert_exporter": "python",
   "pygments_lexer": "ipython3",
   "version": "3.8.2"
  }
 },
 "nbformat": 4,
 "nbformat_minor": 2
}
