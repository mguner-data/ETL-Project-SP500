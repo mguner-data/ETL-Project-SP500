{
 "cells": [
  {
   "cell_type": "code",
   "execution_count": 1,
   "metadata": {},
   "outputs": [],
   "source": [
    "import pandas as pd\n",
    "from sqlalchemy import create_engine\n",
    "from secret import username, password"
   ]
  },
  {
   "cell_type": "code",
   "execution_count": 2,
   "metadata": {},
   "outputs": [
    {
     "data": {
      "text/html": [
       "<div>\n",
       "<style scoped>\n",
       "    .dataframe tbody tr th:only-of-type {\n",
       "        vertical-align: middle;\n",
       "    }\n",
       "\n",
       "    .dataframe tbody tr th {\n",
       "        vertical-align: top;\n",
       "    }\n",
       "\n",
       "    .dataframe thead th {\n",
       "        text-align: right;\n",
       "    }\n",
       "</style>\n",
       "<table border=\"1\" class=\"dataframe\">\n",
       "  <thead>\n",
       "    <tr style=\"text-align: right;\">\n",
       "      <th></th>\n",
       "      <th>Unnamed: 0</th>\n",
       "      <th>date</th>\n",
       "      <th>open</th>\n",
       "      <th>high</th>\n",
       "      <th>low</th>\n",
       "      <th>close</th>\n",
       "      <th>volume</th>\n",
       "      <th>name</th>\n",
       "    </tr>\n",
       "  </thead>\n",
       "  <tbody>\n",
       "    <tr>\n",
       "      <th>0</th>\n",
       "      <td>0</td>\n",
       "      <td>2020-07-31</td>\n",
       "      <td>11.16</td>\n",
       "      <td>11.2500</td>\n",
       "      <td>10.80</td>\n",
       "      <td>11.12</td>\n",
       "      <td>11.12</td>\n",
       "      <td>GGP</td>\n",
       "    </tr>\n",
       "    <tr>\n",
       "      <th>1</th>\n",
       "      <td>1</td>\n",
       "      <td>2020-07-30</td>\n",
       "      <td>11.22</td>\n",
       "      <td>11.3900</td>\n",
       "      <td>11.12</td>\n",
       "      <td>11.18</td>\n",
       "      <td>11.18</td>\n",
       "      <td>GGP</td>\n",
       "    </tr>\n",
       "    <tr>\n",
       "      <th>2</th>\n",
       "      <td>2</td>\n",
       "      <td>2020-07-29</td>\n",
       "      <td>11.80</td>\n",
       "      <td>11.9200</td>\n",
       "      <td>11.30</td>\n",
       "      <td>11.40</td>\n",
       "      <td>11.40</td>\n",
       "      <td>GGP</td>\n",
       "    </tr>\n",
       "    <tr>\n",
       "      <th>3</th>\n",
       "      <td>3</td>\n",
       "      <td>2020-07-28</td>\n",
       "      <td>11.37</td>\n",
       "      <td>11.9950</td>\n",
       "      <td>11.36</td>\n",
       "      <td>11.77</td>\n",
       "      <td>11.77</td>\n",
       "      <td>GGP</td>\n",
       "    </tr>\n",
       "    <tr>\n",
       "      <th>4</th>\n",
       "      <td>4</td>\n",
       "      <td>2020-07-27</td>\n",
       "      <td>11.48</td>\n",
       "      <td>11.7938</td>\n",
       "      <td>11.18</td>\n",
       "      <td>11.39</td>\n",
       "      <td>11.39</td>\n",
       "      <td>GGP</td>\n",
       "    </tr>\n",
       "  </tbody>\n",
       "</table>\n",
       "</div>"
      ],
      "text/plain": [
       "   Unnamed: 0        date   open     high    low  close  volume name\n",
       "0           0  2020-07-31  11.16  11.2500  10.80  11.12   11.12  GGP\n",
       "1           1  2020-07-30  11.22  11.3900  11.12  11.18   11.18  GGP\n",
       "2           2  2020-07-29  11.80  11.9200  11.30  11.40   11.40  GGP\n",
       "3           3  2020-07-28  11.37  11.9950  11.36  11.77   11.77  GGP\n",
       "4           4  2020-07-27  11.48  11.7938  11.18  11.39   11.39  GGP"
      ]
     },
     "execution_count": 2,
     "metadata": {},
     "output_type": "execute_result"
    }
   ],
   "source": [
    "file = \"Alpha_Vantage_Export_Extra_Tickers.csv\"\n",
    "df = pd.read_csv(file)\n",
    "df.head()"
   ]
  },
  {
   "cell_type": "code",
   "execution_count": 3,
   "metadata": {},
   "outputs": [
    {
     "name": "stderr",
     "output_type": "stream",
     "text": [
      "<ipython-input-3-1bff07c75555>:11: SettingWithCopyWarning: \n",
      "A value is trying to be set on a copy of a slice from a DataFrame\n",
      "\n",
      "See the caveats in the documentation: https://pandas.pydata.org/pandas-docs/stable/user_guide/indexing.html#returning-a-view-versus-a-copy\n",
      "  df_ticker.drop_duplicates(\"ticker\", inplace=True)\n"
     ]
    },
    {
     "data": {
      "text/html": [
       "<div>\n",
       "<style scoped>\n",
       "    .dataframe tbody tr th:only-of-type {\n",
       "        vertical-align: middle;\n",
       "    }\n",
       "\n",
       "    .dataframe tbody tr th {\n",
       "        vertical-align: top;\n",
       "    }\n",
       "\n",
       "    .dataframe thead th {\n",
       "        text-align: right;\n",
       "    }\n",
       "</style>\n",
       "<table border=\"1\" class=\"dataframe\">\n",
       "  <thead>\n",
       "    <tr style=\"text-align: right;\">\n",
       "      <th></th>\n",
       "      <th>ticker</th>\n",
       "      <th>date_close</th>\n",
       "      <th>high</th>\n",
       "      <th>open</th>\n",
       "      <th>low</th>\n",
       "      <th>close</th>\n",
       "      <th>volume</th>\n",
       "    </tr>\n",
       "  </thead>\n",
       "  <tbody>\n",
       "    <tr>\n",
       "      <th>0</th>\n",
       "      <td>GGP</td>\n",
       "      <td>2020-07-31</td>\n",
       "      <td>11.2500</td>\n",
       "      <td>11.16</td>\n",
       "      <td>10.80</td>\n",
       "      <td>11.12</td>\n",
       "      <td>11.12</td>\n",
       "    </tr>\n",
       "    <tr>\n",
       "      <th>1</th>\n",
       "      <td>GGP</td>\n",
       "      <td>2020-07-30</td>\n",
       "      <td>11.3900</td>\n",
       "      <td>11.22</td>\n",
       "      <td>11.12</td>\n",
       "      <td>11.18</td>\n",
       "      <td>11.18</td>\n",
       "    </tr>\n",
       "    <tr>\n",
       "      <th>2</th>\n",
       "      <td>GGP</td>\n",
       "      <td>2020-07-29</td>\n",
       "      <td>11.9200</td>\n",
       "      <td>11.80</td>\n",
       "      <td>11.30</td>\n",
       "      <td>11.40</td>\n",
       "      <td>11.40</td>\n",
       "    </tr>\n",
       "    <tr>\n",
       "      <th>3</th>\n",
       "      <td>GGP</td>\n",
       "      <td>2020-07-28</td>\n",
       "      <td>11.9950</td>\n",
       "      <td>11.37</td>\n",
       "      <td>11.36</td>\n",
       "      <td>11.77</td>\n",
       "      <td>11.77</td>\n",
       "    </tr>\n",
       "    <tr>\n",
       "      <th>4</th>\n",
       "      <td>GGP</td>\n",
       "      <td>2020-07-27</td>\n",
       "      <td>11.7938</td>\n",
       "      <td>11.48</td>\n",
       "      <td>11.18</td>\n",
       "      <td>11.39</td>\n",
       "      <td>11.39</td>\n",
       "    </tr>\n",
       "  </tbody>\n",
       "</table>\n",
       "</div>"
      ],
      "text/plain": [
       "  ticker  date_close     high   open    low  close  volume\n",
       "0    GGP  2020-07-31  11.2500  11.16  10.80  11.12   11.12\n",
       "1    GGP  2020-07-30  11.3900  11.22  11.12  11.18   11.18\n",
       "2    GGP  2020-07-29  11.9200  11.80  11.30  11.40   11.40\n",
       "3    GGP  2020-07-28  11.9950  11.37  11.36  11.77   11.77\n",
       "4    GGP  2020-07-27  11.7938  11.48  11.18  11.39   11.39"
      ]
     },
     "execution_count": 3,
     "metadata": {},
     "output_type": "execute_result"
    }
   ],
   "source": [
    "df = df.rename(columns = {'name':'ticker',\n",
    "                            'date':'date_close',\n",
    "                          'high':'high',\n",
    "                          'open':'open',\n",
    "                          'low':'low',\n",
    "                          'close':'close',\n",
    "                          'volume':'volume'\n",
    "                           })\n",
    "df = df[['ticker','date_close','high','open','low','close','volume']]\n",
    "df_ticker = df[['ticker']]\n",
    "df_ticker.drop_duplicates(\"ticker\", inplace=True)\n",
    "df.head()"
   ]
  },
  {
   "cell_type": "code",
   "execution_count": 4,
   "metadata": {},
   "outputs": [],
   "source": [
    "connection_string = f'{username}:{password}@localhost:5432/Stock_DB'\n",
    "engine = create_engine(f'postgresql://{connection_string}')"
   ]
  },
  {
   "cell_type": "code",
   "execution_count": 5,
   "metadata": {},
   "outputs": [
    {
     "data": {
      "text/plain": [
       "['daily_data', 'ticker_security', 'index_event']"
      ]
     },
     "execution_count": 5,
     "metadata": {},
     "output_type": "execute_result"
    }
   ],
   "source": [
    "engine.table_names()"
   ]
  },
  {
   "cell_type": "code",
   "execution_count": 6,
   "metadata": {},
   "outputs": [],
   "source": [
    "for i in range(len(df_ticker)):\n",
    "    try:\n",
    "        df_ticker.iloc[i:i+1].to_sql(name='ticker_security', con=engine, if_exists='append',index=False)\n",
    "    except:\n",
    "       pass #or any other action  "
   ]
  },
  {
   "cell_type": "code",
   "execution_count": 7,
   "metadata": {},
   "outputs": [],
   "source": [
    "df.to_sql(name='daily_data', con=engine, if_exists='append', index=False)"
   ]
  },
  {
   "cell_type": "code",
   "execution_count": null,
   "metadata": {},
   "outputs": [],
   "source": []
  }
 ],
 "metadata": {
  "kernelspec": {
   "display_name": "Python 3",
   "language": "python",
   "name": "python3"
  },
  "language_info": {
   "codemirror_mode": {
    "name": "ipython",
    "version": 3
   },
   "file_extension": ".py",
   "mimetype": "text/x-python",
   "name": "python",
   "nbconvert_exporter": "python",
   "pygments_lexer": "ipython3",
   "version": "3.8.3"
  }
 },
 "nbformat": 4,
 "nbformat_minor": 4
}
