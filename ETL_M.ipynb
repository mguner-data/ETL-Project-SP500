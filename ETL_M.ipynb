{
 "cells": [
  {
   "cell_type": "code",
   "execution_count": 3,
   "metadata": {},
   "outputs": [],
   "source": [
    "import pandas as pd\n",
    "from sqlalchemy import create_engine\n",
    "from secret import username, password"
   ]
  },
  {
   "cell_type": "code",
   "execution_count": 4,
   "metadata": {},
   "outputs": [
    {
     "data": {
      "text/html": [
       "<div>\n",
       "<style scoped>\n",
       "    .dataframe tbody tr th:only-of-type {\n",
       "        vertical-align: middle;\n",
       "    }\n",
       "\n",
       "    .dataframe tbody tr th {\n",
       "        vertical-align: top;\n",
       "    }\n",
       "\n",
       "    .dataframe thead th {\n",
       "        text-align: right;\n",
       "    }\n",
       "</style>\n",
       "<table border=\"1\" class=\"dataframe\">\n",
       "  <thead>\n",
       "    <tr style=\"text-align: right;\">\n",
       "      <th></th>\n",
       "      <th>ticker</th>\n",
       "      <th>Date</th>\n",
       "      <th>High</th>\n",
       "      <th>Low</th>\n",
       "      <th>Open</th>\n",
       "      <th>Close</th>\n",
       "      <th>Volume</th>\n",
       "      <th>Adj Close</th>\n",
       "    </tr>\n",
       "  </thead>\n",
       "  <tbody>\n",
       "    <tr>\n",
       "      <th>0</th>\n",
       "      <td>TJX</td>\n",
       "      <td>2018-02-08</td>\n",
       "      <td>38.404999</td>\n",
       "      <td>37.174999</td>\n",
       "      <td>38.270000</td>\n",
       "      <td>37.180000</td>\n",
       "      <td>10940000.0</td>\n",
       "      <td>35.848591</td>\n",
       "    </tr>\n",
       "    <tr>\n",
       "      <th>1</th>\n",
       "      <td>TJX</td>\n",
       "      <td>2018-02-09</td>\n",
       "      <td>38.125000</td>\n",
       "      <td>36.410000</td>\n",
       "      <td>37.294998</td>\n",
       "      <td>37.820000</td>\n",
       "      <td>15882000.0</td>\n",
       "      <td>36.465668</td>\n",
       "    </tr>\n",
       "    <tr>\n",
       "      <th>2</th>\n",
       "      <td>TJX</td>\n",
       "      <td>2018-02-12</td>\n",
       "      <td>38.189999</td>\n",
       "      <td>37.270000</td>\n",
       "      <td>38.125000</td>\n",
       "      <td>37.855000</td>\n",
       "      <td>10206800.0</td>\n",
       "      <td>36.499420</td>\n",
       "    </tr>\n",
       "    <tr>\n",
       "      <th>3</th>\n",
       "      <td>TJX</td>\n",
       "      <td>2018-02-13</td>\n",
       "      <td>38.095001</td>\n",
       "      <td>37.509998</td>\n",
       "      <td>37.755001</td>\n",
       "      <td>37.775002</td>\n",
       "      <td>6666600.0</td>\n",
       "      <td>36.422283</td>\n",
       "    </tr>\n",
       "    <tr>\n",
       "      <th>4</th>\n",
       "      <td>TJX</td>\n",
       "      <td>2018-02-14</td>\n",
       "      <td>38.465000</td>\n",
       "      <td>37.485001</td>\n",
       "      <td>37.544998</td>\n",
       "      <td>38.285000</td>\n",
       "      <td>8596600.0</td>\n",
       "      <td>37.067345</td>\n",
       "    </tr>\n",
       "  </tbody>\n",
       "</table>\n",
       "</div>"
      ],
      "text/plain": [
       "  ticker        Date       High        Low       Open      Close      Volume  \\\n",
       "0    TJX  2018-02-08  38.404999  37.174999  38.270000  37.180000  10940000.0   \n",
       "1    TJX  2018-02-09  38.125000  36.410000  37.294998  37.820000  15882000.0   \n",
       "2    TJX  2018-02-12  38.189999  37.270000  38.125000  37.855000  10206800.0   \n",
       "3    TJX  2018-02-13  38.095001  37.509998  37.755001  37.775002   6666600.0   \n",
       "4    TJX  2018-02-14  38.465000  37.485001  37.544998  38.285000   8596600.0   \n",
       "\n",
       "   Adj Close  \n",
       "0  35.848591  \n",
       "1  36.465668  \n",
       "2  36.499420  \n",
       "3  36.422283  \n",
       "4  37.067345  "
      ]
     },
     "execution_count": 4,
     "metadata": {},
     "output_type": "execute_result"
    }
   ],
   "source": [
    "file = \"SP500_from18_to20.csv\"\n",
    "df = pd.read_csv(file)\n",
    "df.head()"
   ]
  },
  {
   "cell_type": "code",
   "execution_count": 5,
   "metadata": {},
   "outputs": [
    {
     "name": "stderr",
     "output_type": "stream",
     "text": [
      "<ipython-input-5-466dbaa3ae60>:11: SettingWithCopyWarning: \n",
      "A value is trying to be set on a copy of a slice from a DataFrame\n",
      "\n",
      "See the caveats in the documentation: https://pandas.pydata.org/pandas-docs/stable/user_guide/indexing.html#returning-a-view-versus-a-copy\n",
      "  df_ticker.drop_duplicates(\"ticker\", inplace=True)\n"
     ]
    },
    {
     "data": {
      "text/html": [
       "<div>\n",
       "<style scoped>\n",
       "    .dataframe tbody tr th:only-of-type {\n",
       "        vertical-align: middle;\n",
       "    }\n",
       "\n",
       "    .dataframe tbody tr th {\n",
       "        vertical-align: top;\n",
       "    }\n",
       "\n",
       "    .dataframe thead th {\n",
       "        text-align: right;\n",
       "    }\n",
       "</style>\n",
       "<table border=\"1\" class=\"dataframe\">\n",
       "  <thead>\n",
       "    <tr style=\"text-align: right;\">\n",
       "      <th></th>\n",
       "      <th>ticker</th>\n",
       "      <th>date_close</th>\n",
       "      <th>high</th>\n",
       "      <th>open</th>\n",
       "      <th>low</th>\n",
       "      <th>close</th>\n",
       "      <th>volume</th>\n",
       "    </tr>\n",
       "  </thead>\n",
       "  <tbody>\n",
       "    <tr>\n",
       "      <th>0</th>\n",
       "      <td>TJX</td>\n",
       "      <td>2018-02-08</td>\n",
       "      <td>38.404999</td>\n",
       "      <td>38.270000</td>\n",
       "      <td>37.174999</td>\n",
       "      <td>37.180000</td>\n",
       "      <td>10940000.0</td>\n",
       "    </tr>\n",
       "    <tr>\n",
       "      <th>1</th>\n",
       "      <td>TJX</td>\n",
       "      <td>2018-02-09</td>\n",
       "      <td>38.125000</td>\n",
       "      <td>37.294998</td>\n",
       "      <td>36.410000</td>\n",
       "      <td>37.820000</td>\n",
       "      <td>15882000.0</td>\n",
       "    </tr>\n",
       "    <tr>\n",
       "      <th>2</th>\n",
       "      <td>TJX</td>\n",
       "      <td>2018-02-12</td>\n",
       "      <td>38.189999</td>\n",
       "      <td>38.125000</td>\n",
       "      <td>37.270000</td>\n",
       "      <td>37.855000</td>\n",
       "      <td>10206800.0</td>\n",
       "    </tr>\n",
       "    <tr>\n",
       "      <th>3</th>\n",
       "      <td>TJX</td>\n",
       "      <td>2018-02-13</td>\n",
       "      <td>38.095001</td>\n",
       "      <td>37.755001</td>\n",
       "      <td>37.509998</td>\n",
       "      <td>37.775002</td>\n",
       "      <td>6666600.0</td>\n",
       "    </tr>\n",
       "    <tr>\n",
       "      <th>4</th>\n",
       "      <td>TJX</td>\n",
       "      <td>2018-02-14</td>\n",
       "      <td>38.465000</td>\n",
       "      <td>37.544998</td>\n",
       "      <td>37.485001</td>\n",
       "      <td>38.285000</td>\n",
       "      <td>8596600.0</td>\n",
       "    </tr>\n",
       "  </tbody>\n",
       "</table>\n",
       "</div>"
      ],
      "text/plain": [
       "  ticker  date_close       high       open        low      close      volume\n",
       "0    TJX  2018-02-08  38.404999  38.270000  37.174999  37.180000  10940000.0\n",
       "1    TJX  2018-02-09  38.125000  37.294998  36.410000  37.820000  15882000.0\n",
       "2    TJX  2018-02-12  38.189999  38.125000  37.270000  37.855000  10206800.0\n",
       "3    TJX  2018-02-13  38.095001  37.755001  37.509998  37.775002   6666600.0\n",
       "4    TJX  2018-02-14  38.465000  37.544998  37.485001  38.285000   8596600.0"
      ]
     },
     "execution_count": 5,
     "metadata": {},
     "output_type": "execute_result"
    }
   ],
   "source": [
    "df = df.rename(columns = {'Name':'ticker',\n",
    "                            'Date':'date_close',\n",
    "                          'High':'high',\n",
    "                          'Open':'open',\n",
    "                          'Low':'low',\n",
    "                          'Close':'close',\n",
    "                          'Volume':'volume'\n",
    "                           })\n",
    "df = df[['ticker','date_close','high','open','low','close','volume']]\n",
    "df_ticker = df[['ticker']]\n",
    "df_ticker.drop_duplicates(\"ticker\", inplace=True)\n",
    "df.head()"
   ]
  },
  {
   "cell_type": "code",
   "execution_count": 6,
   "metadata": {},
   "outputs": [],
   "source": [
    "connection_string = f'{username}:{password}@localhost:5432/Stock_DB'\n",
    "engine = create_engine(f'postgresql://{connection_string}')"
   ]
  },
  {
   "cell_type": "code",
   "execution_count": 7,
   "metadata": {},
   "outputs": [
    {
     "data": {
      "text/plain": [
       "['ticker_security', 'index_event', 'daily_data']"
      ]
     },
     "execution_count": 7,
     "metadata": {},
     "output_type": "execute_result"
    }
   ],
   "source": [
    "engine.table_names()"
   ]
  },
  {
   "cell_type": "code",
   "execution_count": 8,
   "metadata": {},
   "outputs": [],
   "source": [
    "for i in range(len(df_ticker)):\n",
    "    try:\n",
    "        df_ticker.iloc[i:i+1].to_sql(name='ticker_security', con=engine, if_exists='append',index=False)\n",
    "    except:\n",
    "       pass #or any other action  "
   ]
  },
  {
   "cell_type": "code",
   "execution_count": 9,
   "metadata": {},
   "outputs": [],
   "source": [
    "df.to_sql(name='daily_data', con=engine, if_exists='append', index=True)"
   ]
  },
  {
   "cell_type": "code",
   "execution_count": null,
   "metadata": {},
   "outputs": [],
   "source": []
  }
 ],
 "metadata": {
  "kernelspec": {
   "display_name": "Python [conda env:PythonData]",
   "language": "python",
   "name": "conda-env-PythonData-py"
  },
  "language_info": {
   "codemirror_mode": {
    "name": "ipython",
    "version": 3
   },
   "file_extension": ".py",
   "mimetype": "text/x-python",
   "name": "python",
   "nbconvert_exporter": "python",
   "pygments_lexer": "ipython3",
   "version": "3.8.3"
  }
 },
 "nbformat": 4,
 "nbformat_minor": 4
}
