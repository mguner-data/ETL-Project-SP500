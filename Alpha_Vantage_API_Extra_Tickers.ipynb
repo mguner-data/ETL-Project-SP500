{
 "cells": [
  {
   "cell_type": "code",
   "execution_count": 1,
   "metadata": {},
   "outputs": [
    {
     "ename": "ModuleNotFoundError",
     "evalue": "No module named 'api_keys'",
     "output_type": "error",
     "traceback": [
      "\u001b[1;31m---------------------------------------------------------------------------\u001b[0m",
      "\u001b[1;31mModuleNotFoundError\u001b[0m                       Traceback (most recent call last)",
      "\u001b[1;32m<ipython-input-1-ef9014fca8a3>\u001b[0m in \u001b[0;36m<module>\u001b[1;34m\u001b[0m\n\u001b[0;32m      7\u001b[0m \u001b[1;33m\u001b[0m\u001b[0m\n\u001b[0;32m      8\u001b[0m \u001b[1;31m# Import API key\u001b[0m\u001b[1;33m\u001b[0m\u001b[1;33m\u001b[0m\u001b[1;33m\u001b[0m\u001b[0m\n\u001b[1;32m----> 9\u001b[1;33m \u001b[1;32mfrom\u001b[0m \u001b[0mapi_keys\u001b[0m \u001b[1;32mimport\u001b[0m \u001b[0mAlpha_Vantage_Key\u001b[0m\u001b[1;33m\u001b[0m\u001b[1;33m\u001b[0m\u001b[0m\n\u001b[0m\u001b[0;32m     10\u001b[0m \u001b[1;33m\u001b[0m\u001b[0m\n\u001b[0;32m     11\u001b[0m \u001b[1;31m# Set Up Query URL\u001b[0m\u001b[1;33m\u001b[0m\u001b[1;33m\u001b[0m\u001b[1;33m\u001b[0m\u001b[0m\n",
      "\u001b[1;31mModuleNotFoundError\u001b[0m: No module named 'api_keys'"
     ]
    }
   ],
   "source": [
    "# Dependencies and Setup\n",
    "import requests\n",
    "import json\n",
    "import pandas as pd\n",
    "import os\n",
    "import time\n",
    "\n",
    "# Import API key\n",
    "from api_keys import Alpha_Vantage_Key\n",
    "\n",
    "# Set Up Query URL\n",
    "symbol = 'AAL'\n",
    "query_url = f'https://www.alphavantage.co/query?function=TIME_SERIES_DAILY&symbol={symbol}&outputsize=full&apikey={Alpha_Vantage_Key}'\n",
    "\n",
    "# Output File (CSV)\n",
    "output_data_file = \"Alpha_Vantage_Export_Extra_Tickers.csv\""
   ]
  },
  {
   "cell_type": "code",
   "execution_count": null,
   "metadata": {},
   "outputs": [],
   "source": [
    "#import list of stock tickers to query\n",
    "file_path = os.path.join('constituents.csv')\n",
    "current_component_df = pd.read_csv(file_path)\n",
    "stock_ticker_list = ['GGP','ESRX','CHK','FTR','TSS','FLR','MUR','HSP','SWN','DO','CMCSK','Q','RHT','TMK','JEC','MAT','GNW','GME','ALTR','LUK','RAI','PLL','XL','DWDP','MNK','SNDK','EQT','SYMC','FL','ARG','CNX','NKTR','CA','PCLN','CAM','BHF','ADS','SPLS','HRS','POM','EMC','ANDV','DNB','NFX','XEC','AGN','M','PX','CBG','JWN','HCBK','HOG','TRIP','BBBY','TE','CBS','AMG','ARNC','GT','BRCM','TDC','TWX','PCG','PCP','AVY ','EVHC','GAS','CSC','PCL','HCP','KORS','WYN','MAC','JOY','CPGX','TGNA','HCN','UTX','FOSL','RRC','WFM','OI','PDCO','ESV','BCR','APC','RTN','HP','BXLT','ABIOMED','DPS','ADT','LM','CSRA','CELG','SNI','SIG','AN','HOT','NAVI','LVLT','CVC','TWC','MJN','SCG','GMCR','UA-C','STI','DTV','RIG','BHGE','YHOO','COL','R','SRCL','VIAB','AYI','WCG','SIAL','LLL','CCE','BBT','AET','MON','THC']\n",
    "\n",
    "for symbol in stock_ticker_list:\n",
    "    print(symbol)\n",
    "print(f'The number of tickers in the list is {len(stock_ticker_list)}')"
   ]
  },
  {
   "cell_type": "code",
   "execution_count": null,
   "metadata": {},
   "outputs": [],
   "source": [
    "#set up empty lists, variables and url.\n",
    "date_list = []\n",
    "open_list = []\n",
    "high_list  = []\n",
    "low_list = []\n",
    "close_list = []\n",
    "volume_list = []\n",
    "name_list = []"
   ]
  },
  {
   "cell_type": "code",
   "execution_count": null,
   "metadata": {
    "scrolled": true
   },
   "outputs": [],
   "source": [
    "#FOR Loop on stock ticker list\n",
    "for symbol in stock_ticker_list:\n",
    "    try:\n",
    "        #Create API call\n",
    "        query_url = f'https://www.alphavantage.co/query?function=TIME_SERIES_DAILY&symbol={symbol}&outputsize=full&apikey={Alpha_Vantage_Key}'\n",
    "        stock_data = requests.get(query_url).json()\n",
    "        #Create list of avaliable dates\n",
    "        list_of_dates = stock_data[\"Time Series (Daily)\"].keys()\n",
    "        #FOR loop through dates for this symbol\n",
    "        for lookup_date in list_of_dates:\n",
    "            date_list.append(lookup_date)\n",
    "            open_list.append(stock_data[\"Time Series (Daily)\"][lookup_date]['1. open'])\n",
    "            high_list.append(stock_data[\"Time Series (Daily)\"][lookup_date]['2. high'])\n",
    "            low_list.append(stock_data[\"Time Series (Daily)\"][lookup_date]['3. low'])\n",
    "            close_list.append(stock_data[\"Time Series (Daily)\"][lookup_date]['4. close'])\n",
    "            volume_list.append(stock_data[\"Time Series (Daily)\"][lookup_date]['4. close'])\n",
    "            name_list.append(symbol)\n",
    "        print(f'{symbol} successfully added')\n",
    "    except KeyError:\n",
    "        #If there's a KeyError, it's because we've queried the API too quickly, so wait.\n",
    "        query_url = f'https://www.alphavantage.co/query?function=TIME_SERIES_DAILY&symbol={symbol}&outputsize=full&apikey={Alpha_Vantage_Key}'\n",
    "        print(f'{symbol} does not exist')\n",
    "        print(\"Waiting....\")\n",
    "        time.sleep(60)\n",
    "        #Create API call\n",
    "        query_url = f'https://www.alphavantage.co/query?function=TIME_SERIES_DAILY&symbol={symbol}&outputsize=full&apikey={Alpha_Vantage_Key}'\n",
    "        stock_data = requests.get(query_url).json()\n",
    "        #Create list of avaliable dates\n",
    "        list_of_dates = stock_data[\"Time Series (Daily)\"].keys()\n",
    "        #FOR loop through dates for this symbol\n",
    "        for lookup_date in list_of_dates:\n",
    "            date_list.append(lookup_date)\n",
    "            open_list.append(stock_data[\"Time Series (Daily)\"][lookup_date]['1. open'])\n",
    "            high_list.append(stock_data[\"Time Series (Daily)\"][lookup_date]['2. high'])\n",
    "            low_list.append(stock_data[\"Time Series (Daily)\"][lookup_date]['3. low'])\n",
    "            close_list.append(stock_data[\"Time Series (Daily)\"][lookup_date]['4. close'])\n",
    "            volume_list.append(stock_data[\"Time Series (Daily)\"][lookup_date]['4. close'])\n",
    "            name_list.append(symbol)\n",
    "        print(f'{symbol} successfully added')"
   ]
  },
  {
   "cell_type": "code",
   "execution_count": null,
   "metadata": {},
   "outputs": [],
   "source": [
    "#set up and populate a dataframe.\n",
    "all_stocks_df = pd.DataFrame({\"date\":date_list,\n",
    "\"open\":open_list,\n",
    "\"high\":high_list,\n",
    "\"low\":low_list,\n",
    "\"close\":close_list,\n",
    "\"volume\":volume_list,\n",
    "\"name\":name_list})\n",
    "all_stocks_df.tail()"
   ]
  },
  {
   "cell_type": "code",
   "execution_count": null,
   "metadata": {},
   "outputs": [],
   "source": [
    "#export dataframe to csv\n",
    "all_stocks_df.to_csv(output_data_file, index=True, header=True)\n"
   ]
  },
  {
   "cell_type": "code",
   "execution_count": null,
   "metadata": {},
   "outputs": [],
   "source": [
    "print(all_stocks_df.describe(include='all'))"
   ]
  }
 ],
 "metadata": {
  "kernelspec": {
   "display_name": "Python [conda env:.conda-PythonData] *",
   "language": "python",
   "name": "conda-env-.conda-PythonData-py"
  },
  "language_info": {
   "codemirror_mode": {
    "name": "ipython",
    "version": 3
   },
   "file_extension": ".py",
   "mimetype": "text/x-python",
   "name": "python",
   "nbconvert_exporter": "python",
   "pygments_lexer": "ipython3",
   "version": "3.8.3"
  }
 },
 "nbformat": 4,
 "nbformat_minor": 4
}
